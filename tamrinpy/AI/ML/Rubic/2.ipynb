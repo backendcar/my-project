{
 "cells": [
  {
   "cell_type": "code",
   "execution_count": 2,
   "metadata": {},
   "outputs": [],
   "source": [
    "import numpy as np"
   ]
  },
  {
   "cell_type": "code",
   "execution_count": 5,
   "metadata": {},
   "outputs": [],
   "source": [
    "class rubikCube:\n",
    "    def __init__(self):\n",
    "        self.colors = [\"W\", \"Y\", \"R\", \"O\", \"B\", \"G\"]\n",
    "        self.faces = {\n",
    "            \"U\": np.full((3,3), self.colors[0]),\n",
    "            \"D\": np.full((3,3), self.colors[1]),\n",
    "            \"F\": np.full((3,3), self.colors[2]),\n",
    "            \"B\": np.full((3,3), self.colors[3]),\n",
    "            \"L\": np.full((3,3), self.colors[4]),\n",
    "            \"R\": np.full((3,3), self.colors[5])\n",
    "        }\n",
    "    \n",
    "    def rotate_face(self, face, clockwise = True):\n",
    "        if face not in self.faces:\n",
    "            print(\"وجه نامعتبر است!\")\n",
    "            return"
   ]
  },
  {
   "cell_type": "code",
   "execution_count": null,
   "metadata": {},
   "outputs": [],
   "source": []
  }
 ],
 "metadata": {
  "kernelspec": {
   "display_name": "Python 3",
   "language": "python",
   "name": "python3"
  },
  "language_info": {
   "codemirror_mode": {
    "name": "ipython",
    "version": 3
   },
   "file_extension": ".py",
   "mimetype": "text/x-python",
   "name": "python",
   "nbconvert_exporter": "python",
   "pygments_lexer": "ipython3",
   "version": "3.12.1"
  }
 },
 "nbformat": 4,
 "nbformat_minor": 2
}
