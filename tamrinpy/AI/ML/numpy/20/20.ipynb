{
 "cells": [
  {
   "cell_type": "code",
   "execution_count": 1,
   "metadata": {},
   "outputs": [],
   "source": [
    "import numpy as np"
   ]
  },
  {
   "cell_type": "code",
   "execution_count": null,
   "metadata": {},
   "outputs": [
    {
     "data": {
      "text/plain": [
       "2"
      ]
     },
     "execution_count": 2,
     "metadata": {},
     "output_type": "execute_result"
    }
   ],
   "source": [
    "# باقی مانده تقسیم رو برمیگردونه \n",
    "a = np.mod(10,4)\n",
    "a"
   ]
  },
  {
   "cell_type": "code",
   "execution_count": 3,
   "metadata": {},
   "outputs": [
    {
     "data": {
      "text/plain": [
       "2"
      ]
     },
     "execution_count": 3,
     "metadata": {},
     "output_type": "execute_result"
    }
   ],
   "source": [
    "10 % 8"
   ]
  },
  {
   "cell_type": "code",
   "execution_count": 5,
   "metadata": {},
   "outputs": [
    {
     "data": {
      "text/plain": [
       "True"
      ]
     },
     "execution_count": 5,
     "metadata": {},
     "output_type": "execute_result"
    }
   ],
   "source": [
    "b = np.equal(2,2)\n",
    "b"
   ]
  },
  {
   "cell_type": "code",
   "execution_count": 6,
   "metadata": {},
   "outputs": [
    {
     "data": {
      "text/plain": [
       "array([0, 1, 2, 3, 4, 5, 6, 7, 8, 9])"
      ]
     },
     "execution_count": 6,
     "metadata": {},
     "output_type": "execute_result"
    }
   ],
   "source": [
    "s = np.arange(10)\n",
    "s"
   ]
  },
  {
   "cell_type": "code",
   "execution_count": 9,
   "metadata": {},
   "outputs": [
    {
     "data": {
      "text/plain": [
       "array([10, 11, 12, 13, 14, 15, 16, 17, 18, 19])"
      ]
     },
     "execution_count": 9,
     "metadata": {},
     "output_type": "execute_result"
    }
   ],
   "source": [
    "d = np.arange(10,20)\n",
    "d"
   ]
  },
  {
   "cell_type": "code",
   "execution_count": 10,
   "metadata": {},
   "outputs": [
    {
     "data": {
      "text/plain": [
       "array([[  0,   0,   0,   0,   0,   0,   0,   0,   0,   0],\n",
       "       [ 10,  11,  12,  13,  14,  15,  16,  17,  18,  19],\n",
       "       [ 20,  22,  24,  26,  28,  30,  32,  34,  36,  38],\n",
       "       [ 30,  33,  36,  39,  42,  45,  48,  51,  54,  57],\n",
       "       [ 40,  44,  48,  52,  56,  60,  64,  68,  72,  76],\n",
       "       [ 50,  55,  60,  65,  70,  75,  80,  85,  90,  95],\n",
       "       [ 60,  66,  72,  78,  84,  90,  96, 102, 108, 114],\n",
       "       [ 70,  77,  84,  91,  98, 105, 112, 119, 126, 133],\n",
       "       [ 80,  88,  96, 104, 112, 120, 128, 136, 144, 152],\n",
       "       [ 90,  99, 108, 117, 126, 135, 144, 153, 162, 171]])"
      ]
     },
     "execution_count": 10,
     "metadata": {},
     "output_type": "execute_result"
    }
   ],
   "source": [
    "g = np.outer(s,d)\n",
    "g"
   ]
  },
  {
   "cell_type": "code",
   "execution_count": 11,
   "metadata": {},
   "outputs": [
    {
     "data": {
      "text/plain": [
       "array([10, 12, 14, 16, 18, 20, 22, 24, 26, 28])"
      ]
     },
     "execution_count": 11,
     "metadata": {},
     "output_type": "execute_result"
    }
   ],
   "source": [
    "h = np.add(s,d)\n",
    "h"
   ]
  },
  {
   "cell_type": "code",
   "execution_count": 12,
   "metadata": {},
   "outputs": [
    {
     "data": {
      "text/plain": [
       "array([-10, -10, -10, -10, -10, -10, -10, -10, -10, -10])"
      ]
     },
     "execution_count": 12,
     "metadata": {},
     "output_type": "execute_result"
    }
   ],
   "source": [
    "e = np.subtract(s,d)\n",
    "e"
   ]
  },
  {
   "cell_type": "code",
   "execution_count": 13,
   "metadata": {},
   "outputs": [
    {
     "data": {
      "text/plain": [
       "array([  0,  11,  24,  39,  56,  75,  96, 119, 144, 171])"
      ]
     },
     "execution_count": 13,
     "metadata": {},
     "output_type": "execute_result"
    }
   ],
   "source": [
    "np.multiply(s,d)"
   ]
  },
  {
   "cell_type": "code",
   "execution_count": 14,
   "metadata": {},
   "outputs": [
    {
     "data": {
      "text/plain": [
       "array([0.        , 0.09090909, 0.16666667, 0.23076923, 0.28571429,\n",
       "       0.33333333, 0.375     , 0.41176471, 0.44444444, 0.47368421])"
      ]
     },
     "execution_count": 14,
     "metadata": {},
     "output_type": "execute_result"
    }
   ],
   "source": [
    "np.divide(s,d)"
   ]
  },
  {
   "cell_type": "code",
   "execution_count": 15,
   "metadata": {},
   "outputs": [
    {
     "data": {
      "text/plain": [
       "array([[10, 11, 12, 13, 14, 15, 16, 17, 18, 19],\n",
       "       [11, 12, 13, 14, 15, 16, 17, 18, 19, 20],\n",
       "       [12, 13, 14, 15, 16, 17, 18, 19, 20, 21],\n",
       "       [13, 14, 15, 16, 17, 18, 19, 20, 21, 22],\n",
       "       [14, 15, 16, 17, 18, 19, 20, 21, 22, 23],\n",
       "       [15, 16, 17, 18, 19, 20, 21, 22, 23, 24],\n",
       "       [16, 17, 18, 19, 20, 21, 22, 23, 24, 25],\n",
       "       [17, 18, 19, 20, 21, 22, 23, 24, 25, 26],\n",
       "       [18, 19, 20, 21, 22, 23, 24, 25, 26, 27],\n",
       "       [19, 20, 21, 22, 23, 24, 25, 26, 27, 28]])"
      ]
     },
     "execution_count": 15,
     "metadata": {},
     "output_type": "execute_result"
    }
   ],
   "source": [
    "np.add.outer(s,d)"
   ]
  },
  {
   "cell_type": "code",
   "execution_count": 16,
   "metadata": {},
   "outputs": [
    {
     "data": {
      "text/plain": [
       "array([[-10, -11, -12, -13, -14, -15, -16, -17, -18, -19],\n",
       "       [ -9, -10, -11, -12, -13, -14, -15, -16, -17, -18],\n",
       "       [ -8,  -9, -10, -11, -12, -13, -14, -15, -16, -17],\n",
       "       [ -7,  -8,  -9, -10, -11, -12, -13, -14, -15, -16],\n",
       "       [ -6,  -7,  -8,  -9, -10, -11, -12, -13, -14, -15],\n",
       "       [ -5,  -6,  -7,  -8,  -9, -10, -11, -12, -13, -14],\n",
       "       [ -4,  -5,  -6,  -7,  -8,  -9, -10, -11, -12, -13],\n",
       "       [ -3,  -4,  -5,  -6,  -7,  -8,  -9, -10, -11, -12],\n",
       "       [ -2,  -3,  -4,  -5,  -6,  -7,  -8,  -9, -10, -11],\n",
       "       [ -1,  -2,  -3,  -4,  -5,  -6,  -7,  -8,  -9, -10]])"
      ]
     },
     "execution_count": 16,
     "metadata": {},
     "output_type": "execute_result"
    }
   ],
   "source": [
    "np.subtract.outer(s,d)"
   ]
  },
  {
   "cell_type": "code",
   "execution_count": 17,
   "metadata": {},
   "outputs": [
    {
     "data": {
      "text/plain": [
       "array([[  0,   0,   0,   0,   0,   0,   0,   0,   0,   0],\n",
       "       [ 10,  11,  12,  13,  14,  15,  16,  17,  18,  19],\n",
       "       [ 20,  22,  24,  26,  28,  30,  32,  34,  36,  38],\n",
       "       [ 30,  33,  36,  39,  42,  45,  48,  51,  54,  57],\n",
       "       [ 40,  44,  48,  52,  56,  60,  64,  68,  72,  76],\n",
       "       [ 50,  55,  60,  65,  70,  75,  80,  85,  90,  95],\n",
       "       [ 60,  66,  72,  78,  84,  90,  96, 102, 108, 114],\n",
       "       [ 70,  77,  84,  91,  98, 105, 112, 119, 126, 133],\n",
       "       [ 80,  88,  96, 104, 112, 120, 128, 136, 144, 152],\n",
       "       [ 90,  99, 108, 117, 126, 135, 144, 153, 162, 171]])"
      ]
     },
     "execution_count": 17,
     "metadata": {},
     "output_type": "execute_result"
    }
   ],
   "source": [
    "np.multiply.outer(s,d)"
   ]
  },
  {
   "cell_type": "code",
   "execution_count": 18,
   "metadata": {},
   "outputs": [
    {
     "data": {
      "text/plain": [
       "array([[0.        , 0.        , 0.        , 0.        , 0.        ,\n",
       "        0.        , 0.        , 0.        , 0.        , 0.        ],\n",
       "       [0.1       , 0.09090909, 0.08333333, 0.07692308, 0.07142857,\n",
       "        0.06666667, 0.0625    , 0.05882353, 0.05555556, 0.05263158],\n",
       "       [0.2       , 0.18181818, 0.16666667, 0.15384615, 0.14285714,\n",
       "        0.13333333, 0.125     , 0.11764706, 0.11111111, 0.10526316],\n",
       "       [0.3       , 0.27272727, 0.25      , 0.23076923, 0.21428571,\n",
       "        0.2       , 0.1875    , 0.17647059, 0.16666667, 0.15789474],\n",
       "       [0.4       , 0.36363636, 0.33333333, 0.30769231, 0.28571429,\n",
       "        0.26666667, 0.25      , 0.23529412, 0.22222222, 0.21052632],\n",
       "       [0.5       , 0.45454545, 0.41666667, 0.38461538, 0.35714286,\n",
       "        0.33333333, 0.3125    , 0.29411765, 0.27777778, 0.26315789],\n",
       "       [0.6       , 0.54545455, 0.5       , 0.46153846, 0.42857143,\n",
       "        0.4       , 0.375     , 0.35294118, 0.33333333, 0.31578947],\n",
       "       [0.7       , 0.63636364, 0.58333333, 0.53846154, 0.5       ,\n",
       "        0.46666667, 0.4375    , 0.41176471, 0.38888889, 0.36842105],\n",
       "       [0.8       , 0.72727273, 0.66666667, 0.61538462, 0.57142857,\n",
       "        0.53333333, 0.5       , 0.47058824, 0.44444444, 0.42105263],\n",
       "       [0.9       , 0.81818182, 0.75      , 0.69230769, 0.64285714,\n",
       "        0.6       , 0.5625    , 0.52941176, 0.5       , 0.47368421]])"
      ]
     },
     "execution_count": 18,
     "metadata": {},
     "output_type": "execute_result"
    }
   ],
   "source": [
    "np.divide.outer(s,d)"
   ]
  },
  {
   "cell_type": "code",
   "execution_count": 32,
   "metadata": {},
   "outputs": [],
   "source": [
    "def is_intger(number):\n",
    "    return np.equal(np.mod(number, 1),0)"
   ]
  },
  {
   "cell_type": "code",
   "execution_count": 33,
   "metadata": {},
   "outputs": [],
   "source": [
    "np_func = np.frompyfunc(is_intger,1,1)"
   ]
  },
  {
   "cell_type": "code",
   "execution_count": 23,
   "metadata": {},
   "outputs": [],
   "source": [
    "numbers_range = 9"
   ]
  },
  {
   "cell_type": "code",
   "execution_count": 24,
   "metadata": {},
   "outputs": [],
   "source": [
    "first_array = np.arange(numbers_range)+1\n",
    "second_array = np.arange(numbers_range)+1"
   ]
  },
  {
   "cell_type": "code",
   "execution_count": 25,
   "metadata": {},
   "outputs": [
    {
     "data": {
      "text/plain": [
       "array([1, 2, 3, 4, 5, 6, 7, 8, 9])"
      ]
     },
     "execution_count": 25,
     "metadata": {},
     "output_type": "execute_result"
    }
   ],
   "source": [
    "first_array"
   ]
  },
  {
   "cell_type": "code",
   "execution_count": 26,
   "metadata": {},
   "outputs": [
    {
     "data": {
      "text/plain": [
       "array([1, 2, 3, 4, 5, 6, 7, 8, 9])"
      ]
     },
     "execution_count": 26,
     "metadata": {},
     "output_type": "execute_result"
    }
   ],
   "source": [
    "second_array"
   ]
  },
  {
   "cell_type": "code",
   "execution_count": 27,
   "metadata": {},
   "outputs": [
    {
     "data": {
      "text/plain": [
       "array([[  2,   5,  10,  17,  26,  37,  50,  65,  82],\n",
       "       [  5,   8,  13,  20,  29,  40,  53,  68,  85],\n",
       "       [ 10,  13,  18,  25,  34,  45,  58,  73,  90],\n",
       "       [ 17,  20,  25,  32,  41,  52,  65,  80,  97],\n",
       "       [ 26,  29,  34,  41,  50,  61,  74,  89, 106],\n",
       "       [ 37,  40,  45,  52,  61,  72,  85, 100, 117],\n",
       "       [ 50,  53,  58,  65,  74,  85,  98, 113, 130],\n",
       "       [ 65,  68,  73,  80,  89, 100, 113, 128, 145],\n",
       "       [ 82,  85,  90,  97, 106, 117, 130, 145, 162]])"
      ]
     },
     "execution_count": 27,
     "metadata": {},
     "output_type": "execute_result"
    }
   ],
   "source": [
    "result = np.add.outer(first_array**2, second_array**2)\n",
    "result"
   ]
  },
  {
   "cell_type": "code",
   "execution_count": 29,
   "metadata": {},
   "outputs": [
    {
     "data": {
      "text/plain": [
       "array([[ 1.41421356,  2.23606798,  3.16227766,  4.12310563,  5.09901951,\n",
       "         6.08276253,  7.07106781,  8.06225775,  9.05538514],\n",
       "       [ 2.23606798,  2.82842712,  3.60555128,  4.47213595,  5.38516481,\n",
       "         6.32455532,  7.28010989,  8.24621125,  9.21954446],\n",
       "       [ 3.16227766,  3.60555128,  4.24264069,  5.        ,  5.83095189,\n",
       "         6.70820393,  7.61577311,  8.54400375,  9.48683298],\n",
       "       [ 4.12310563,  4.47213595,  5.        ,  5.65685425,  6.40312424,\n",
       "         7.21110255,  8.06225775,  8.94427191,  9.8488578 ],\n",
       "       [ 5.09901951,  5.38516481,  5.83095189,  6.40312424,  7.07106781,\n",
       "         7.81024968,  8.60232527,  9.43398113, 10.29563014],\n",
       "       [ 6.08276253,  6.32455532,  6.70820393,  7.21110255,  7.81024968,\n",
       "         8.48528137,  9.21954446, 10.        , 10.81665383],\n",
       "       [ 7.07106781,  7.28010989,  7.61577311,  8.06225775,  8.60232527,\n",
       "         9.21954446,  9.89949494, 10.63014581, 11.40175425],\n",
       "       [ 8.06225775,  8.24621125,  8.54400375,  8.94427191,  9.43398113,\n",
       "        10.        , 10.63014581, 11.3137085 , 12.04159458],\n",
       "       [ 9.05538514,  9.21954446,  9.48683298,  9.8488578 , 10.29563014,\n",
       "        10.81665383, 11.40175425, 12.04159458, 12.72792206]])"
      ]
     },
     "execution_count": 29,
     "metadata": {},
     "output_type": "execute_result"
    }
   ],
   "source": [
    "final = np.sqrt(result)\n",
    "final"
   ]
  },
  {
   "cell_type": "code",
   "execution_count": 34,
   "metadata": {},
   "outputs": [
    {
     "data": {
      "text/plain": [
       "array([[False, False, False, False, False, False, False, False, False],\n",
       "       [False, False, False, False, False, False, False, False, False],\n",
       "       [False, False, False, True, False, False, False, False, False],\n",
       "       [False, False, True, False, False, False, False, False, False],\n",
       "       [False, False, False, False, False, False, False, False, False],\n",
       "       [False, False, False, False, False, False, False, True, False],\n",
       "       [False, False, False, False, False, False, False, False, False],\n",
       "       [False, False, False, False, False, True, False, False, False],\n",
       "       [False, False, False, False, False, False, False, False, False]],\n",
       "      dtype=object)"
      ]
     },
     "execution_count": 34,
     "metadata": {},
     "output_type": "execute_result"
    }
   ],
   "source": [
    "np_func(final)"
   ]
  },
  {
   "cell_type": "code",
   "execution_count": null,
   "metadata": {},
   "outputs": [],
   "source": []
  }
 ],
 "metadata": {
  "kernelspec": {
   "display_name": "Python 3",
   "language": "python",
   "name": "python3"
  },
  "language_info": {
   "codemirror_mode": {
    "name": "ipython",
    "version": 3
   },
   "file_extension": ".py",
   "mimetype": "text/x-python",
   "name": "python",
   "nbconvert_exporter": "python",
   "pygments_lexer": "ipython3",
   "version": "3.12.1"
  }
 },
 "nbformat": 4,
 "nbformat_minor": 2
}
