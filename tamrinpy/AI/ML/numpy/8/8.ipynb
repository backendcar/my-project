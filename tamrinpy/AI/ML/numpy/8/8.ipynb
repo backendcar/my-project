{
 "cells": [
  {
   "cell_type": "code",
   "execution_count": 13,
   "metadata": {},
   "outputs": [],
   "source": [
    "import numpy as np"
   ]
  },
  {
   "cell_type": "code",
   "execution_count": 22,
   "metadata": {},
   "outputs": [
    {
     "data": {
      "text/plain": [
       "array([[86, 89, 37, 42, 77, 83, 77, 39, 14, 48, 15, 50,  1, 96, 75, 86,\n",
       "        87,  5, 70, 46, 14, 76, 92, 18, 72, 77,  3, 16, 42, 11, 53,  4,\n",
       "        47, 36, 40, 72, 37, 92, 20,  2, 73, 12, 25, 87, 68, 16, 17, 68,\n",
       "        32, 61, 31, 58,  4, 53, 13, 41, 55, 55, 51, 39]])"
      ]
     },
     "execution_count": 22,
     "metadata": {},
     "output_type": "execute_result"
    }
   ],
   "source": [
    "a = np.random.randint(1,100,size=(1,60))\n",
    "a"
   ]
  },
  {
   "cell_type": "code",
   "execution_count": 9,
   "metadata": {},
   "outputs": [
    {
     "data": {
      "text/plain": [
       "(1, 60)"
      ]
     },
     "execution_count": 9,
     "metadata": {},
     "output_type": "execute_result"
    }
   ],
   "source": [
    "a.shape"
   ]
  },
  {
   "cell_type": "code",
   "execution_count": 24,
   "metadata": {},
   "outputs": [
    {
     "data": {
      "text/plain": [
       "array([[86, 89, 37, 42, 77, 83, 77, 39, 14, 48, 15, 50,  1, 96, 75, 86,\n",
       "        87,  5, 70, 46, 14, 76, 92, 18, 72, 77,  3, 16, 42, 11, 53,  4,\n",
       "        47, 36, 40, 72, 37, 92, 20,  2, 73, 12, 25, 87, 68, 16, 17, 68,\n",
       "        32, 61, 31, 58,  4, 53, 13, 41, 55, 55, 51, 39]])"
      ]
     },
     "execution_count": 24,
     "metadata": {},
     "output_type": "execute_result"
    }
   ],
   "source": [
    "a.reshape(1,60)"
   ]
  },
  {
   "cell_type": "code",
   "execution_count": 35,
   "metadata": {},
   "outputs": [
    {
     "data": {
      "text/plain": [
       "array([[[86, 89, 37, 42, 77],\n",
       "        [83, 77, 39, 14, 48],\n",
       "        [15, 50,  1, 96, 75],\n",
       "        [86, 87,  5, 70, 46],\n",
       "        [14, 76, 92, 18, 72],\n",
       "        [77,  3, 16, 42, 11]],\n",
       "\n",
       "       [[53,  4, 47, 36, 40],\n",
       "        [72, 37, 92, 20,  2],\n",
       "        [73, 12, 25, 87, 68],\n",
       "        [16, 17, 68, 32, 61],\n",
       "        [31, 58,  4, 53, 13],\n",
       "        [41, 55, 55, 51, 39]]])"
      ]
     },
     "execution_count": 35,
     "metadata": {},
     "output_type": "execute_result"
    }
   ],
   "source": [
    "a = a.reshape(2,6,5)\n",
    "a"
   ]
  },
  {
   "cell_type": "code",
   "execution_count": 36,
   "metadata": {},
   "outputs": [
    {
     "data": {
      "text/plain": [
       "array([[[ True,  True,  True,  True,  True],\n",
       "        [ True,  True,  True, False,  True],\n",
       "        [False,  True, False,  True,  True],\n",
       "        [ True,  True, False,  True,  True],\n",
       "        [False,  True,  True, False,  True],\n",
       "        [ True, False, False,  True, False]],\n",
       "\n",
       "       [[ True, False,  True,  True,  True],\n",
       "        [ True,  True,  True, False, False],\n",
       "        [ True, False, False,  True,  True],\n",
       "        [False, False,  True,  True,  True],\n",
       "        [ True,  True, False,  True, False],\n",
       "        [ True,  True,  True,  True,  True]]])"
      ]
     },
     "execution_count": 36,
     "metadata": {},
     "output_type": "execute_result"
    }
   ],
   "source": [
    "greatter_than_30 = a>30\n",
    "greatter_than_30"
   ]
  },
  {
   "cell_type": "code",
   "execution_count": 37,
   "metadata": {},
   "outputs": [
    {
     "data": {
      "text/plain": [
       "array([86, 89, 37, 42, 77, 83, 77, 39, 48, 50, 96, 75, 86, 87, 70, 46, 76,\n",
       "       92, 72, 77, 42, 53, 47, 36, 40, 72, 37, 92, 73, 87, 68, 68, 32, 61,\n",
       "       31, 58, 53, 41, 55, 55, 51, 39])"
      ]
     },
     "execution_count": 37,
     "metadata": {},
     "output_type": "execute_result"
    }
   ],
   "source": [
    "a[greatter_than_30]"
   ]
  },
  {
   "cell_type": "code",
   "execution_count": 38,
   "metadata": {},
   "outputs": [
    {
     "data": {
      "text/plain": [
       "array([[[ True, False, False,  True, False],\n",
       "        [False, False, False,  True,  True],\n",
       "        [False,  True, False,  True, False],\n",
       "        [ True, False, False,  True,  True],\n",
       "        [ True,  True,  True,  True,  True],\n",
       "        [False, False,  True,  True, False]],\n",
       "\n",
       "       [[False,  True, False,  True,  True],\n",
       "        [ True, False,  True,  True,  True],\n",
       "        [False,  True, False, False,  True],\n",
       "        [ True, False,  True,  True, False],\n",
       "        [False,  True,  True, False, False],\n",
       "        [False, False, False, False, False]]])"
      ]
     },
     "execution_count": 38,
     "metadata": {},
     "output_type": "execute_result"
    }
   ],
   "source": [
    "even_elements = a%2==0\n",
    "even_elements"
   ]
  },
  {
   "cell_type": "code",
   "execution_count": 39,
   "metadata": {},
   "outputs": [
    {
     "data": {
      "text/plain": [
       "array([86, 42, 14, 48, 50, 96, 86, 70, 46, 14, 76, 92, 18, 72, 16, 42,  4,\n",
       "       36, 40, 72, 92, 20,  2, 12, 68, 16, 68, 32, 58,  4])"
      ]
     },
     "execution_count": 39,
     "metadata": {},
     "output_type": "execute_result"
    }
   ],
   "source": [
    "a[even_elements]"
   ]
  },
  {
   "cell_type": "code",
   "execution_count": 40,
   "metadata": {},
   "outputs": [
    {
     "data": {
      "text/plain": [
       "array([86, 42, 48, 50, 96, 86, 70, 46, 76, 92, 72, 42, 36, 40, 72, 92, 68,\n",
       "       68, 32, 58])"
      ]
     },
     "execution_count": 40,
     "metadata": {},
     "output_type": "execute_result"
    }
   ],
   "source": [
    "final_mask = np.logical_and(greatter_than_30,even_elements)\n",
    "a[final_mask]"
   ]
  },
  {
   "cell_type": "code",
   "execution_count": 43,
   "metadata": {},
   "outputs": [
    {
     "data": {
      "text/plain": [
       "array([86, 89, 37, 42, 77, 83, 77, 39, 14, 48, 15, 50,  1, 96, 75, 86, 87,\n",
       "        5, 70, 46, 14, 76, 92, 18, 72, 77,  3, 16, 42, 11, 53,  4, 47, 36,\n",
       "       40, 72, 37, 92,  2, 73, 12, 87, 68, 16, 17, 68, 32, 61, 31, 58,  4,\n",
       "       53, 13, 41, 55, 55, 51, 39])"
      ]
     },
     "execution_count": 43,
     "metadata": {},
     "output_type": "execute_result"
    }
   ],
   "source": [
    "less_than_20 = a<20\n",
    "result = np.logical_or(greatter_than_30,less_than_20)\n",
    "a[result]"
   ]
  },
  {
   "cell_type": "code",
   "execution_count": null,
   "metadata": {},
   "outputs": [],
   "source": []
  }
 ],
 "metadata": {
  "kernelspec": {
   "display_name": "Python 3",
   "language": "python",
   "name": "python3"
  },
  "language_info": {
   "codemirror_mode": {
    "name": "ipython",
    "version": 3
   },
   "file_extension": ".py",
   "mimetype": "text/x-python",
   "name": "python",
   "nbconvert_exporter": "python",
   "pygments_lexer": "ipython3",
   "version": "3.12.1"
  }
 },
 "nbformat": 4,
 "nbformat_minor": 2
}
