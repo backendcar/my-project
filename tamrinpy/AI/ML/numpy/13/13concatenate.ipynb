{
 "cells": [
  {
   "cell_type": "code",
   "execution_count": 1,
   "metadata": {},
   "outputs": [],
   "source": [
    "import numpy as np"
   ]
  },
  {
   "cell_type": "code",
   "execution_count": 2,
   "metadata": {},
   "outputs": [
    {
     "data": {
      "text/plain": [
       "array([[ 0,  1,  2,  3],\n",
       "       [ 4,  5,  6,  7],\n",
       "       [ 8,  9, 10, 11]])"
      ]
     },
     "execution_count": 2,
     "metadata": {},
     "output_type": "execute_result"
    }
   ],
   "source": [
    "a = np.arange(12).reshape((3,4))\n",
    "a"
   ]
  },
  {
   "cell_type": "code",
   "execution_count": 3,
   "metadata": {},
   "outputs": [
    {
     "data": {
      "text/plain": [
       "array([[13, 14, 15, 16],\n",
       "       [17, 18, 19, 20],\n",
       "       [21, 22, 23, 24]])"
      ]
     },
     "execution_count": 3,
     "metadata": {},
     "output_type": "execute_result"
    }
   ],
   "source": [
    "b = np.arange(13,25).reshape((3,4))\n",
    "b"
   ]
  },
  {
   "cell_type": "code",
   "execution_count": 5,
   "metadata": {},
   "outputs": [
    {
     "data": {
      "text/plain": [
       "array([[ 0,  1,  2,  3],\n",
       "       [ 4,  5,  6,  7],\n",
       "       [ 8,  9, 10, 11],\n",
       "       [13, 14, 15, 16],\n",
       "       [17, 18, 19, 20],\n",
       "       [21, 22, 23, 24]])"
      ]
     },
     "execution_count": 5,
     "metadata": {},
     "output_type": "execute_result"
    }
   ],
   "source": [
    "result0 = np.concatenate((a,b),axis=0)\n",
    "result0"
   ]
  },
  {
   "cell_type": "code",
   "execution_count": 6,
   "metadata": {},
   "outputs": [
    {
     "data": {
      "text/plain": [
       "array([[ 0,  1,  2,  3, 13, 14, 15, 16],\n",
       "       [ 4,  5,  6,  7, 17, 18, 19, 20],\n",
       "       [ 8,  9, 10, 11, 21, 22, 23, 24]])"
      ]
     },
     "execution_count": 6,
     "metadata": {},
     "output_type": "execute_result"
    }
   ],
   "source": [
    "result1 = np.concatenate((a,b), axis=1)\n",
    "result1"
   ]
  },
  {
   "cell_type": "code",
   "execution_count": 7,
   "metadata": {},
   "outputs": [
    {
     "data": {
      "text/plain": [
       "array([[[ 0,  1,  2,  3],\n",
       "        [ 4,  5,  6,  7],\n",
       "        [ 8,  9, 10, 11]],\n",
       "\n",
       "       [[13, 14, 15, 16],\n",
       "        [17, 18, 19, 20],\n",
       "        [21, 22, 23, 24]]])"
      ]
     },
     "execution_count": 7,
     "metadata": {},
     "output_type": "execute_result"
    }
   ],
   "source": [
    "stack0 = np.stack((a,b),axis=0)\n",
    "stack0"
   ]
  },
  {
   "cell_type": "code",
   "execution_count": 8,
   "metadata": {},
   "outputs": [
    {
     "data": {
      "text/plain": [
       "array([[[ 0,  1,  2,  3],\n",
       "        [13, 14, 15, 16]],\n",
       "\n",
       "       [[ 4,  5,  6,  7],\n",
       "        [17, 18, 19, 20]],\n",
       "\n",
       "       [[ 8,  9, 10, 11],\n",
       "        [21, 22, 23, 24]]])"
      ]
     },
     "execution_count": 8,
     "metadata": {},
     "output_type": "execute_result"
    }
   ],
   "source": [
    "stack1 = np.stack((a,b),axis=1)\n",
    "stack1"
   ]
  },
  {
   "cell_type": "code",
   "execution_count": 12,
   "metadata": {},
   "outputs": [
    {
     "data": {
      "text/plain": [
       "array([[[ 0, 13],\n",
       "        [ 1, 14],\n",
       "        [ 2, 15],\n",
       "        [ 3, 16]],\n",
       "\n",
       "       [[ 4, 17],\n",
       "        [ 5, 18],\n",
       "        [ 6, 19],\n",
       "        [ 7, 20]],\n",
       "\n",
       "       [[ 8, 21],\n",
       "        [ 9, 22],\n",
       "        [10, 23],\n",
       "        [11, 24]]])"
      ]
     },
     "execution_count": 12,
     "metadata": {},
     "output_type": "execute_result"
    }
   ],
   "source": [
    "stack2 = np.stack((a,b),axis=2)\n",
    "stack2"
   ]
  },
  {
   "cell_type": "code",
   "execution_count": 14,
   "metadata": {},
   "outputs": [
    {
     "data": {
      "text/plain": [
       "array([[[28, 77, 18,  7, 98],\n",
       "        [40, 46, 79, 17, 86]],\n",
       "\n",
       "       [[42, 36, 41, 15, 12],\n",
       "        [71, 22, 12, 48, 73]],\n",
       "\n",
       "       [[46, 26, 29, 28, 46],\n",
       "        [97, 79, 38, 56, 51]],\n",
       "\n",
       "       [[43, 30, 93, 39, 59],\n",
       "        [73, 12,  9, 77, 84]]])"
      ]
     },
     "execution_count": 14,
     "metadata": {},
     "output_type": "execute_result"
    }
   ],
   "source": [
    "e = np.random.randint(1,99,size=40).reshape(4,2,5)\n",
    "e"
   ]
  },
  {
   "cell_type": "code",
   "execution_count": 29,
   "metadata": {},
   "outputs": [],
   "source": [
    "split0 = np.split(e,4,axis=0)\n",
    "split1 = np.split(e,2,axis=1)\n",
    "split2 = np.split(e,5,axis=2)"
   ]
  },
  {
   "cell_type": "code",
   "execution_count": 23,
   "metadata": {},
   "outputs": [
    {
     "data": {
      "text/plain": [
       "[array([[[28, 77, 18,  7, 98],\n",
       "         [40, 46, 79, 17, 86]]]),\n",
       " array([[[42, 36, 41, 15, 12],\n",
       "         [71, 22, 12, 48, 73]]]),\n",
       " array([[[46, 26, 29, 28, 46],\n",
       "         [97, 79, 38, 56, 51]]]),\n",
       " array([[[43, 30, 93, 39, 59],\n",
       "         [73, 12,  9, 77, 84]]])]"
      ]
     },
     "execution_count": 23,
     "metadata": {},
     "output_type": "execute_result"
    }
   ],
   "source": [
    "split0"
   ]
  },
  {
   "cell_type": "code",
   "execution_count": 26,
   "metadata": {},
   "outputs": [
    {
     "data": {
      "text/plain": [
       "[array([[[28, 77, 18,  7, 98]],\n",
       " \n",
       "        [[42, 36, 41, 15, 12]],\n",
       " \n",
       "        [[46, 26, 29, 28, 46]],\n",
       " \n",
       "        [[43, 30, 93, 39, 59]]]),\n",
       " array([[[40, 46, 79, 17, 86]],\n",
       " \n",
       "        [[71, 22, 12, 48, 73]],\n",
       " \n",
       "        [[97, 79, 38, 56, 51]],\n",
       " \n",
       "        [[73, 12,  9, 77, 84]]])]"
      ]
     },
     "execution_count": 26,
     "metadata": {},
     "output_type": "execute_result"
    }
   ],
   "source": [
    "split1"
   ]
  },
  {
   "cell_type": "code",
   "execution_count": 30,
   "metadata": {},
   "outputs": [
    {
     "data": {
      "text/plain": [
       "[array([[[28],\n",
       "         [40]],\n",
       " \n",
       "        [[42],\n",
       "         [71]],\n",
       " \n",
       "        [[46],\n",
       "         [97]],\n",
       " \n",
       "        [[43],\n",
       "         [73]]]),\n",
       " array([[[77],\n",
       "         [46]],\n",
       " \n",
       "        [[36],\n",
       "         [22]],\n",
       " \n",
       "        [[26],\n",
       "         [79]],\n",
       " \n",
       "        [[30],\n",
       "         [12]]]),\n",
       " array([[[18],\n",
       "         [79]],\n",
       " \n",
       "        [[41],\n",
       "         [12]],\n",
       " \n",
       "        [[29],\n",
       "         [38]],\n",
       " \n",
       "        [[93],\n",
       "         [ 9]]]),\n",
       " array([[[ 7],\n",
       "         [17]],\n",
       " \n",
       "        [[15],\n",
       "         [48]],\n",
       " \n",
       "        [[28],\n",
       "         [56]],\n",
       " \n",
       "        [[39],\n",
       "         [77]]]),\n",
       " array([[[98],\n",
       "         [86]],\n",
       " \n",
       "        [[12],\n",
       "         [73]],\n",
       " \n",
       "        [[46],\n",
       "         [51]],\n",
       " \n",
       "        [[59],\n",
       "         [84]]])]"
      ]
     },
     "execution_count": 30,
     "metadata": {},
     "output_type": "execute_result"
    }
   ],
   "source": [
    "split2"
   ]
  },
  {
   "cell_type": "code",
   "execution_count": 27,
   "metadata": {},
   "outputs": [
    {
     "data": {
      "text/plain": [
       "list"
      ]
     },
     "execution_count": 27,
     "metadata": {},
     "output_type": "execute_result"
    }
   ],
   "source": [
    "type(split1)"
   ]
  },
  {
   "cell_type": "code",
   "execution_count": 28,
   "metadata": {},
   "outputs": [
    {
     "data": {
      "text/plain": [
       "(4, 2, 5)"
      ]
     },
     "execution_count": 28,
     "metadata": {},
     "output_type": "execute_result"
    }
   ],
   "source": [
    "e.shape"
   ]
  },
  {
   "cell_type": "code",
   "execution_count": null,
   "metadata": {},
   "outputs": [],
   "source": []
  }
 ],
 "metadata": {
  "kernelspec": {
   "display_name": "Python 3",
   "language": "python",
   "name": "python3"
  },
  "language_info": {
   "codemirror_mode": {
    "name": "ipython",
    "version": 3
   },
   "file_extension": ".py",
   "mimetype": "text/x-python",
   "name": "python",
   "nbconvert_exporter": "python",
   "pygments_lexer": "ipython3",
   "version": "3.12.1"
  }
 },
 "nbformat": 4,
 "nbformat_minor": 2
}
