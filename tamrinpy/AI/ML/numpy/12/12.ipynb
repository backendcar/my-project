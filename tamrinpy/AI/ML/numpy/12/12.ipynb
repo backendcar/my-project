{
 "cells": [
  {
   "cell_type": "code",
   "execution_count": 1,
   "metadata": {},
   "outputs": [],
   "source": [
    "import numpy as np"
   ]
  },
  {
   "cell_type": "code",
   "execution_count": 2,
   "metadata": {},
   "outputs": [
    {
     "data": {
      "text/plain": [
       "array([0, 1, 2, 3, 4, 5, 6, 7, 8, 9])"
      ]
     },
     "execution_count": 2,
     "metadata": {},
     "output_type": "execute_result"
    }
   ],
   "source": [
    "a = np.arange(10)\n",
    "a"
   ]
  },
  {
   "cell_type": "code",
   "execution_count": 3,
   "metadata": {},
   "outputs": [
    {
     "data": {
      "text/plain": [
       "array([ 0,  1,  2,  3,  4,  5,  6,  7,  8,  9, 10, 11])"
      ]
     },
     "execution_count": 3,
     "metadata": {},
     "output_type": "execute_result"
    }
   ],
   "source": [
    "b = np.append(a,(10,11))\n",
    "b"
   ]
  },
  {
   "cell_type": "code",
   "execution_count": 4,
   "metadata": {},
   "outputs": [
    {
     "data": {
      "text/plain": [
       "array([0, 1, 2, 3, 4, 5, 6, 7, 8, 9])"
      ]
     },
     "execution_count": 4,
     "metadata": {},
     "output_type": "execute_result"
    }
   ],
   "source": [
    "a"
   ]
  },
  {
   "cell_type": "code",
   "execution_count": 5,
   "metadata": {},
   "outputs": [
    {
     "data": {
      "text/plain": [
       "array([[[41, 95, 61, 41],\n",
       "        [50,  9, 90, 72],\n",
       "        [23, 73,  8,  4]],\n",
       "\n",
       "       [[ 3, 74, 69, 45],\n",
       "        [69, 83, 27, 30],\n",
       "        [88, 25, 97, 65]]])"
      ]
     },
     "execution_count": 5,
     "metadata": {},
     "output_type": "execute_result"
    }
   ],
   "source": [
    "c = np.random.randint(1,99,size=(2,3,4))\n",
    "c"
   ]
  },
  {
   "cell_type": "code",
   "execution_count": 10,
   "metadata": {},
   "outputs": [
    {
     "data": {
      "text/plain": [
       "array([[[41, 95, 61, 41, 60, 63, 86,  6],\n",
       "        [50,  9, 90, 72, 33, 10, 14, 19],\n",
       "        [23, 73,  8,  4, 11, 35, 56, 77]],\n",
       "\n",
       "       [[ 3, 74, 69, 45, 68, 85, 13, 31],\n",
       "        [69, 83, 27, 30, 19, 22, 40, 23],\n",
       "        [88, 25, 97, 65, 74, 80, 87, 96]]])"
      ]
     },
     "execution_count": 10,
     "metadata": {},
     "output_type": "execute_result"
    }
   ],
   "source": [
    "g = np.random.randint(1,99,size=(2,3,4))\n",
    "d = np.append(c,g,axis=2)\n",
    "d"
   ]
  },
  {
   "cell_type": "code",
   "execution_count": 11,
   "metadata": {},
   "outputs": [
    {
     "data": {
      "text/plain": [
       "(2, 3, 8)"
      ]
     },
     "execution_count": 11,
     "metadata": {},
     "output_type": "execute_result"
    }
   ],
   "source": [
    "d.shape"
   ]
  },
  {
   "cell_type": "code",
   "execution_count": 12,
   "metadata": {},
   "outputs": [
    {
     "data": {
      "text/plain": [
       "(2, 3, 4)"
      ]
     },
     "execution_count": 12,
     "metadata": {},
     "output_type": "execute_result"
    }
   ],
   "source": [
    "g.shape"
   ]
  },
  {
   "cell_type": "code",
   "execution_count": 13,
   "metadata": {},
   "outputs": [
    {
     "data": {
      "text/plain": [
       "(2, 3, 4)"
      ]
     },
     "execution_count": 13,
     "metadata": {},
     "output_type": "execute_result"
    }
   ],
   "source": [
    "c.shape"
   ]
  },
  {
   "cell_type": "code",
   "execution_count": 18,
   "metadata": {},
   "outputs": [
    {
     "data": {
      "text/plain": [
       "array([[[41, 95, 10, 61, 41],\n",
       "        [50,  9, 10, 90, 72],\n",
       "        [23, 73, 10,  8,  4]],\n",
       "\n",
       "       [[ 3, 74, 10, 69, 45],\n",
       "        [69, 83, 10, 27, 30],\n",
       "        [88, 25, 10, 97, 65]]])"
      ]
     },
     "execution_count": 18,
     "metadata": {},
     "output_type": "execute_result"
    }
   ],
   "source": [
    "h = np.insert(c, 2, 10, axis=2)\n",
    "h"
   ]
  },
  {
   "cell_type": "code",
   "execution_count": 20,
   "metadata": {},
   "outputs": [
    {
     "data": {
      "text/plain": [
       "array([[[4.67296746e-307, 1.69121096e-306, 2.13621350e-306,\n",
       "         2.22523004e-306],\n",
       "        [1.29061142e-306, 1.42419938e-306, 7.56603881e-307,\n",
       "         8.45603440e-307],\n",
       "        [3.56043054e-307, 1.60219306e-306, 6.23059726e-307,\n",
       "         1.06811422e-306]],\n",
       "\n",
       "       [[3.56043054e-307, 1.37961641e-306, 1.00132483e-307,\n",
       "         8.01097889e-307],\n",
       "        [1.78020169e-306, 7.56601165e-307, 1.02359984e-306,\n",
       "         1.33510679e-306],\n",
       "        [2.22522597e-306, 1.11260144e-306, 6.89812281e-307,\n",
       "         2.22522596e-306]]])"
      ]
     },
     "execution_count": 20,
     "metadata": {},
     "output_type": "execute_result"
    }
   ],
   "source": [
    "v = np.empty((2,3,4))\n",
    "v"
   ]
  },
  {
   "cell_type": "code",
   "execution_count": 21,
   "metadata": {},
   "outputs": [
    {
     "data": {
      "text/plain": [
       "array([[[41., 95., 61., 41.],\n",
       "        [50.,  9., 90., 72.],\n",
       "        [23., 73.,  8.,  4.]],\n",
       "\n",
       "       [[ 3., 74., 69., 45.],\n",
       "        [69., 83., 27., 30.],\n",
       "        [88., 25., 97., 65.]]])"
      ]
     },
     "execution_count": 21,
     "metadata": {},
     "output_type": "execute_result"
    }
   ],
   "source": [
    "np.copyto(v,c)\n",
    "v"
   ]
  },
  {
   "cell_type": "code",
   "execution_count": 30,
   "metadata": {},
   "outputs": [
    {
     "data": {
      "text/plain": [
       "array([[[41, 95, 61],\n",
       "        [50,  9, 90],\n",
       "        [23, 73,  8]],\n",
       "\n",
       "       [[ 3, 74, 69],\n",
       "        [69, 83, 27],\n",
       "        [88, 25, 97]]])"
      ]
     },
     "execution_count": 30,
     "metadata": {},
     "output_type": "execute_result"
    }
   ],
   "source": [
    "m=np.delete(c, 3, axis=2)\n",
    "m"
   ]
  },
  {
   "cell_type": "code",
   "execution_count": null,
   "metadata": {},
   "outputs": [],
   "source": []
  }
 ],
 "metadata": {
  "kernelspec": {
   "display_name": "Python 3",
   "language": "python",
   "name": "python3"
  },
  "language_info": {
   "codemirror_mode": {
    "name": "ipython",
    "version": 3
   },
   "file_extension": ".py",
   "mimetype": "text/x-python",
   "name": "python",
   "nbconvert_exporter": "python",
   "pygments_lexer": "ipython3",
   "version": "3.12.1"
  }
 },
 "nbformat": 4,
 "nbformat_minor": 2
}
