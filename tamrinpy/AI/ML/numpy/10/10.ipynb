{
 "cells": [
  {
   "cell_type": "code",
   "execution_count": 1,
   "metadata": {},
   "outputs": [],
   "source": [
    "import numpy as np"
   ]
  },
  {
   "cell_type": "code",
   "execution_count": null,
   "metadata": {},
   "outputs": [],
   "source": [
    "names = [\"mohammad\", \"ali\", \"reza\", \"hasan\"]\n",
    "age = [20, 18, 22, 24]\n",
    "cities = [\"tehran\", \"mashhad\", \"tabriz\", \"shiraz\"]"
   ]
  },
  {
   "cell_type": "code",
   "execution_count": 8,
   "metadata": {},
   "outputs": [],
   "source": [
    "pattern = [(\"name\",\"U50\"),(\"age\",\"i4\"),(\"city\",\"U50\")]"
   ]
  },
  {
   "cell_type": "code",
   "execution_count": null,
   "metadata": {},
   "outputs": [
    {
     "data": {
      "text/plain": [
       "array([('', 0, ''), ('', 0, ''), ('', 0, ''), ('', 0, ''), ('', 0, '')],\n",
       "      dtype=[('name', '<U50'), ('age', '<i4'), ('city', '<U50')])"
      ]
     },
     "execution_count": 14,
     "metadata": {},
     "output_type": "execute_result"
    }
   ],
   "source": [
    "my_array = np.zeros((5),dtype=pattern)\n",
    "my_array"
   ]
  },
  {
   "cell_type": "code",
   "execution_count": 15,
   "metadata": {},
   "outputs": [
    {
     "data": {
      "text/plain": [
       "array([('mohammad', 20, 'tehran'), ('',  0, ''), ('',  0, ''),\n",
       "       ('',  0, ''), ('',  0, '')],\n",
       "      dtype=[('name', '<U50'), ('age', '<i4'), ('city', '<U50')])"
      ]
     },
     "execution_count": 15,
     "metadata": {},
     "output_type": "execute_result"
    }
   ],
   "source": [
    "my_array[0]=(\"mohammad\",20,\"tehran\")\n",
    "my_array"
   ]
  },
  {
   "cell_type": "code",
   "execution_count": 16,
   "metadata": {},
   "outputs": [
    {
     "data": {
      "text/plain": [
       "array([('mohammad', 20, 'tehran'), ('',  0, ''), ('',  0, ''),\n",
       "       ('ali', 18, 'mashhad'), ('',  0, '')],\n",
       "      dtype=[('name', '<U50'), ('age', '<i4'), ('city', '<U50')])"
      ]
     },
     "execution_count": 16,
     "metadata": {},
     "output_type": "execute_result"
    }
   ],
   "source": [
    "my_array[3]=(\"ali\",18,\"mashhad\")\n",
    "my_array"
   ]
  },
  {
   "cell_type": "code",
   "execution_count": 18,
   "metadata": {},
   "outputs": [
    {
     "data": {
      "text/plain": [
       "array([20,  0,  0, 18,  0])"
      ]
     },
     "execution_count": 18,
     "metadata": {},
     "output_type": "execute_result"
    }
   ],
   "source": [
    "my_array[\"age\"]"
   ]
  },
  {
   "cell_type": "code",
   "execution_count": 19,
   "metadata": {},
   "outputs": [
    {
     "data": {
      "text/plain": [
       "array([[[('', 0, ''), ('', 0, ''), ('', 0, ''), ('', 0, '')],\n",
       "        [('', 0, ''), ('', 0, ''), ('', 0, ''), ('', 0, '')],\n",
       "        [('', 0, ''), ('', 0, ''), ('', 0, ''), ('', 0, '')]],\n",
       "\n",
       "       [[('', 0, ''), ('', 0, ''), ('', 0, ''), ('', 0, '')],\n",
       "        [('', 0, ''), ('', 0, ''), ('', 0, ''), ('', 0, '')],\n",
       "        [('', 0, ''), ('', 0, ''), ('', 0, ''), ('', 0, '')]]],\n",
       "      dtype=[('name', '<U50'), ('age', '<i4'), ('city', '<U50')])"
      ]
     },
     "execution_count": 19,
     "metadata": {},
     "output_type": "execute_result"
    }
   ],
   "source": [
    "my_3D_array = np.zeros((2,3,4),dtype=pattern)\n",
    "my_3D_array"
   ]
  },
  {
   "cell_type": "code",
   "execution_count": 20,
   "metadata": {},
   "outputs": [
    {
     "data": {
      "text/plain": [
       "array([[[('',  0, ''), ('',  0, ''), ('',  0, ''), ('',  0, '')],\n",
       "        [('',  0, ''), ('',  0, ''), ('',  0, ''), ('',  0, '')],\n",
       "        [('',  0, ''), ('',  0, ''), ('',  0, ''), ('',  0, '')]],\n",
       "\n",
       "       [[('',  0, ''), ('',  0, ''), ('',  0, ''),\n",
       "         ('reza', 20, 'Tabriz')],\n",
       "        [('',  0, ''), ('',  0, ''), ('',  0, ''), ('',  0, '')],\n",
       "        [('',  0, ''), ('',  0, ''), ('',  0, ''), ('',  0, '')]]],\n",
       "      dtype=[('name', '<U50'), ('age', '<i4'), ('city', '<U50')])"
      ]
     },
     "execution_count": 20,
     "metadata": {},
     "output_type": "execute_result"
    }
   ],
   "source": [
    "my_3D_array[1,0,3]=(\"reza\", 20, \"Tabriz\")\n",
    "my_3D_array"
   ]
  },
  {
   "cell_type": "code",
   "execution_count": 21,
   "metadata": {},
   "outputs": [
    {
     "data": {
      "text/plain": [
       "rec.array([('ali', 18, 'mashhad'), ('reza', 20, 'Tabriz')],\n",
       "          dtype=[('name', '<U50'), ('age', '<i4'), ('city', '<U50')])"
      ]
     },
     "execution_count": 21,
     "metadata": {},
     "output_type": "execute_result"
    }
   ],
   "source": [
    "my_record_array=np.rec.array([(\"ali\",18,\"mashhad\"),(\"reza\", 20, \"Tabriz\")],dtype=pattern)\n",
    "my_record_array"
   ]
  },
  {
   "cell_type": "code",
   "execution_count": 25,
   "metadata": {},
   "outputs": [
    {
     "data": {
      "text/plain": [
       "array([18, 20])"
      ]
     },
     "execution_count": 25,
     "metadata": {},
     "output_type": "execute_result"
    }
   ],
   "source": [
    "my_record_array.age"
   ]
  },
  {
   "cell_type": "code",
   "execution_count": null,
   "metadata": {},
   "outputs": [],
   "source": []
  }
 ],
 "metadata": {
  "kernelspec": {
   "display_name": "Python 3",
   "language": "python",
   "name": "python3"
  },
  "language_info": {
   "codemirror_mode": {
    "name": "ipython",
    "version": 3
   },
   "file_extension": ".py",
   "mimetype": "text/x-python",
   "name": "python",
   "nbconvert_exporter": "python",
   "pygments_lexer": "ipython3",
   "version": "3.12.1"
  }
 },
 "nbformat": 4,
 "nbformat_minor": 2
}
